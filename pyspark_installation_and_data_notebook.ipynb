{
  "cells": [
    {
      "cell_type": "markdown",
      "metadata": {
        "id": "view-in-github",
        "colab_type": "text"
      },
      "source": [
        "<a href=\"https://colab.research.google.com/github/rushikeshnaik779/spark-3/blob/main/pyspark_installation_and_data_notebook.ipynb\" target=\"_parent\"><img src=\"https://colab.research.google.com/assets/colab-badge.svg\" alt=\"Open In Colab\"/></a>"
      ]
    },
    {
      "cell_type": "code",
      "execution_count": null,
      "metadata": {
        "id": "svHhC1Pm_0MV"
      },
      "outputs": [],
      "source": [
        "# Download Java Virtual Machine (JVM)\n",
        "!apt-get install openjdk-8-jdk-headless -qq > /dev/null"
      ]
    },
    {
      "cell_type": "code",
      "execution_count": null,
      "metadata": {
        "id": "HidOfD5bAD0h"
      },
      "outputs": [],
      "source": [
        "!wget -q https://dlcdn.apache.org/spark/spark-3.5.0/spark-3.5.0-bin-hadoop3.tgz\n",
        "!tar xf spark-3.5.0-bin-hadoop3.tgz"
      ]
    },
    {
      "cell_type": "code",
      "execution_count": null,
      "metadata": {
        "colab": {
          "base_uri": "https://localhost:8080/"
        },
        "id": "fuCI2scIAT7V",
        "outputId": "e43127df-c4f0-41b6-d3a2-cfc08d2a6440"
      },
      "outputs": [
        {
          "name": "stdout",
          "output_type": "stream",
          "text": [
            "DataAnalysisWithPythonAndPySpark-Data  spark-3.5.0-bin-hadoop3\t    spark-3.5.0-bin-hadoop3.tgz.1\n",
            "sample_data\t\t\t       spark-3.5.0-bin-hadoop3.tgz\n"
          ]
        }
      ],
      "source": [
        "!ls"
      ]
    },
    {
      "cell_type": "code",
      "execution_count": null,
      "metadata": {
        "id": "YVcNhC4GA1X8"
      },
      "outputs": [],
      "source": [
        "import os\n",
        "os.environ[\"JAVA_HOME\"] = \"/usr/lib/jvm/java-8-openjdk-amd64\"\n",
        "os.environ[\"SPARK_HOME\"] = \"/content/spark-3.5.0-bin-hadoop3\""
      ]
    },
    {
      "cell_type": "code",
      "execution_count": null,
      "metadata": {
        "id": "jZfLqrAqA6Zx"
      },
      "outputs": [],
      "source": [
        "!pip install -q findspark\n",
        "import findspark\n",
        "findspark.init()\n"
      ]
    },
    {
      "cell_type": "code",
      "execution_count": null,
      "metadata": {
        "id": "GQ5WavsZA9a4"
      },
      "outputs": [],
      "source": [
        "from pyspark.sql import SparkSession\n",
        "spark = SparkSession.builder\\\n",
        "        .master(\"local\")\\\n",
        "        .appName(\"Colab\")\\\n",
        "        .config('spark.ui.port', '4050')\\\n",
        "        .getOrCreate()"
      ]
    },
    {
      "cell_type": "code",
      "execution_count": null,
      "metadata": {
        "colab": {
          "base_uri": "https://localhost:8080/"
        },
        "id": "le_SB2WQBDD5",
        "outputId": "396591e0-cb7b-4a1b-8ce6-b03a0f1acdec"
      },
      "outputs": [
        {
          "name": "stdout",
          "output_type": "stream",
          "text": [
            "fatal: destination path 'DataAnalysisWithPythonAndPySpark-Data' already exists and is not an empty directory.\n"
          ]
        }
      ],
      "source": [
        "!git clone https://github.com/jonesberg/DataAnalysisWithPythonAndPySpark-Data.git"
      ]
    },
    {
      "cell_type": "code",
      "execution_count": null,
      "metadata": {
        "colab": {
          "base_uri": "https://localhost:8080/"
        },
        "id": "aCQZ2onvCVym",
        "outputId": "b5919197-3bdf-40c4-f179-ff0ba50c2a81"
      },
      "outputs": [
        {
          "name": "stdout",
          "output_type": "stream",
          "text": [
            "DataAnalysisWithPythonAndPySpark-Data  spark-3.5.0-bin-hadoop3\t    spark-3.5.0-bin-hadoop3.tgz.1\n",
            "sample_data\t\t\t       spark-3.5.0-bin-hadoop3.tgz\n"
          ]
        }
      ],
      "source": [
        "!ls"
      ]
    },
    {
      "cell_type": "code",
      "execution_count": null,
      "metadata": {
        "id": "3uJZyBw0Bdid"
      },
      "outputs": [],
      "source": [
        "# import os\n",
        "\n",
        "# import pyspark.sql.functions as F\n",
        "# from pyspark.sql import SparkSession\n",
        "\n",
        "# spark = SparkSession.builder.appName(\n",
        "#     \"Getting the Canadian TV channels with the highest/lowest proportion of commercials.\"\n",
        "# ).getOrCreate()\n",
        "\n",
        "# spark.sparkContext.setLogLevel(\"WARN\")\n",
        "\n",
        "# # Reading all the relevant data sources\n",
        "\n",
        "# DIRECTORY = \"./DataAnalysisWithPythonAndPySpark-Data/broadcast_logs\"\n",
        "\n",
        "# logs = spark.read.csv(\n",
        "#     os.path.join(DIRECTORY, \"BroadcastLogs_2018_Q3_M8_sample.CSV\"),\n",
        "#     sep=\"|\",\n",
        "#     header=True,\n",
        "#     inferSchema=True,\n",
        "# )\n",
        "\n",
        "# log_identifier = spark.read.csv(\n",
        "#     os.path.join(DIRECTORY, \"ReferenceTables/LogIdentifier.csv\"),\n",
        "#     sep=\"|\",\n",
        "#     header=True,\n",
        "#     inferSchema=True,\n",
        "# )\n",
        "# cd_category = spark.read.csv(\n",
        "#     os.path.join(DIRECTORY, \"ReferenceTables/CD_Category.csv\"),\n",
        "#     sep=\"|\",\n",
        "#     header=True,\n",
        "#     inferSchema=True,\n",
        "# ).select(\n",
        "#     \"CategoryID\",\n",
        "#     \"CategoryCD\",\n",
        "#     F.col(\"EnglishDescription\").alias(\"Category_Description\"),\n",
        "# )\n",
        "\n",
        "# cd_program_class = spark.read.csv(\n",
        "#     \"./DataAnalysisWithPythonAndPySpark-Data/broadcast_logs/ReferenceTables/CD_ProgramClass.csv\",\n",
        "#     sep=\"|\",\n",
        "#     header=True,\n",
        "#     inferSchema=True,\n",
        "# ).select(\n",
        "#     \"ProgramClassID\",\n",
        "#     \"ProgramClassCD\",\n",
        "#     F.col(\"EnglishDescription\").alias(\"ProgramClass_Description\"),\n",
        "# )\n",
        "\n",
        "# # Data processing\n",
        "\n",
        "# logs = logs.drop(\"BroadcastLogID\", \"SequenceNO\")\n",
        "\n",
        "# logs = logs.withColumn(\n",
        "#     \"duration_seconds\",\n",
        "#     (\n",
        "#         F.col(\"Duration\").substr(1, 2).cast(\"int\") * 60 * 60\n",
        "#         + F.col(\"Duration\").substr(4, 2).cast(\"int\") * 60\n",
        "#         + F.col(\"Duration\").substr(7, 2).cast(\"int\")\n",
        "#     ),\n",
        "# )\n",
        "\n",
        "# log_identifier = log_identifier.where(F.col(\"PrimaryFG\") == 1)\n",
        "\n",
        "# logs_and_channels = logs.join(log_identifier, \"LogServiceID\")\n",
        "\n",
        "# full_log = logs_and_channels.join(cd_category, \"CategoryID\", how=\"left\").join(\n",
        "#     cd_program_class, \"ProgramClassID\", how=\"left\"\n",
        "# )\n",
        "\n",
        "# answer = (\n",
        "#     full_log.groupby(\"LogIdentifierID\")\n",
        "#     .agg(\n",
        "#         F.sum(\n",
        "#             F.when(\n",
        "#                 F.trim(F.col(\"ProgramClassCD\")).isin(\n",
        "#                     [\"COM\", \"PRC\", \"PGI\", \"PRO\", \"LOC\", \"SPO\", \"MER\", \"SOL\"]\n",
        "#                 ),\n",
        "#                 F.col(\"duration_seconds\"),\n",
        "#             ).otherwise(0)\n",
        "#         ).alias(\"duration_commercial\"),\n",
        "#         F.sum(\"duration_seconds\").alias(\"duration_total\"),\n",
        "#     )\n",
        "#     .withColumn(\n",
        "#         \"commercial_ratio\", F.col(\"duration_commercial\") / F.col(\"duration_total\")\n",
        "#     )\n",
        "#     .fillna(0)\n",
        "# )\n",
        "\n",
        "# answer.orderBy(\"commercial_ratio\", ascending=False).show(1000, False)"
      ]
    },
    {
      "cell_type": "code",
      "execution_count": 31,
      "metadata": {
        "id": "ljlao6sLCZP8",
        "colab": {
          "base_uri": "https://localhost:8080/",
          "height": 124
        },
        "outputId": "b5c2b2b2-1d65-4fcf-d89e-a00c0eb678ae"
      },
      "outputs": [
        {
          "output_type": "display_data",
          "data": {
            "text/plain": [
              "DataFrame[_embedded: struct<episodes:array<struct<_links:struct<self:struct<href:string>>,airdate:string,airstamp:string,airtime:string,id:bigint,image:struct<medium:string,original:string>,name:string,number:bigint,runtime:bigint,season:bigint,summary:string,url:string>>>, _links: struct<previousepisode:struct<href:string>,self:struct<href:string>>, externals: struct<imdb:string,thetvdb:bigint,tvrage:bigint>, genres: array<string>, id: bigint, image: struct<medium:string,original:string>, language: string, name: string, network: struct<country:struct<code:string,name:string,timezone:string>,id:bigint,name:string>, officialSite: string, premiered: string, rating: struct<average:double>, runtime: bigint, schedule: struct<days:array<string>,time:string>, status: string, summary: string, type: string, updated: bigint, url: string, webChannel: string, weight: bigint]"
            ]
          },
          "metadata": {}
        }
      ],
      "source": [
        "# spark json\n",
        "from pyspark.sql import SparkSession\n",
        "\n",
        "spark = SparkSession.builder.getOrCreate()\n",
        "\n",
        "shows = spark.read.json('DataAnalysisWithPythonAndPySpark-Data/shows/shows-silicon-valley.json')\n",
        "\n",
        "display(shows)"
      ]
    },
    {
      "cell_type": "code",
      "execution_count": 30,
      "metadata": {
        "colab": {
          "base_uri": "https://localhost:8080/"
        },
        "id": "paQaXUXrsSqq",
        "outputId": "0a6ec965-4e81-47b8-dfb6-d3c12085cbaa"
      },
      "outputs": [
        {
          "output_type": "stream",
          "name": "stdout",
          "text": [
            "pokedex.dsv  shows-breaking-bad.json  shows-golden-girls.json  shows-silicon-valley.json\n"
          ]
        }
      ],
      "source": [
        "!ls \"DataAnalysisWithPythonAndPySpark-Data/shows\""
      ]
    },
    {
      "cell_type": "code",
      "execution_count": 32,
      "metadata": {
        "id": "llnAmf3PsqVg",
        "colab": {
          "base_uri": "https://localhost:8080/"
        },
        "outputId": "edb1221b-1194-4edd-9bb2-afa13d431ce3"
      },
      "outputs": [
        {
          "output_type": "execute_result",
          "data": {
            "text/plain": [
              "1"
            ]
          },
          "metadata": {},
          "execution_count": 32
        }
      ],
      "source": [
        "shows.count()"
      ]
    },
    {
      "cell_type": "code",
      "source": [
        "three_shows = spark.read.json(\"DataAnalysisWithPythonAndPySpark-Data/shows/shows-*.json\", multiLine=True)\n",
        "display(three_shows)"
      ],
      "metadata": {
        "colab": {
          "base_uri": "https://localhost:8080/",
          "height": 141
        },
        "id": "_QdPQNo6ykdu",
        "outputId": "87686101-342c-4fe0-88e0-ab32b416b3d8"
      },
      "execution_count": 34,
      "outputs": [
        {
          "output_type": "display_data",
          "data": {
            "text/plain": [
              "DataFrame[_embedded: struct<episodes:array<struct<_links:struct<self:struct<href:string>>,airdate:string,airstamp:string,airtime:string,id:bigint,image:struct<medium:string,original:string>,name:string,number:bigint,runtime:bigint,season:bigint,summary:string,url:string>>>, _links: struct<previousepisode:struct<href:string>,self:struct<href:string>>, externals: struct<imdb:string,thetvdb:bigint,tvrage:bigint>, genres: array<string>, id: bigint, image: struct<medium:string,original:string>, language: string, name: string, network: struct<country:struct<code:string,name:string,timezone:string>,id:bigint,name:string>, officialSite: string, premiered: string, rating: struct<average:double>, runtime: bigint, schedule: struct<days:array<string>,time:string>, status: string, summary: string, type: string, updated: bigint, url: string, webChannel: struct<country:string,id:bigint,name:string>, weight: bigint]"
            ]
          },
          "metadata": {}
        }
      ]
    },
    {
      "cell_type": "code",
      "source": [
        "three_shows.printSchema()"
      ],
      "metadata": {
        "colab": {
          "base_uri": "https://localhost:8080/"
        },
        "id": "_LnaVvg3zXIT",
        "outputId": "f5502e66-4be5-4508-921d-7f2a354c1463"
      },
      "execution_count": 35,
      "outputs": [
        {
          "output_type": "stream",
          "name": "stdout",
          "text": [
            "root\n",
            " |-- _embedded: struct (nullable = true)\n",
            " |    |-- episodes: array (nullable = true)\n",
            " |    |    |-- element: struct (containsNull = true)\n",
            " |    |    |    |-- _links: struct (nullable = true)\n",
            " |    |    |    |    |-- self: struct (nullable = true)\n",
            " |    |    |    |    |    |-- href: string (nullable = true)\n",
            " |    |    |    |-- airdate: string (nullable = true)\n",
            " |    |    |    |-- airstamp: string (nullable = true)\n",
            " |    |    |    |-- airtime: string (nullable = true)\n",
            " |    |    |    |-- id: long (nullable = true)\n",
            " |    |    |    |-- image: struct (nullable = true)\n",
            " |    |    |    |    |-- medium: string (nullable = true)\n",
            " |    |    |    |    |-- original: string (nullable = true)\n",
            " |    |    |    |-- name: string (nullable = true)\n",
            " |    |    |    |-- number: long (nullable = true)\n",
            " |    |    |    |-- runtime: long (nullable = true)\n",
            " |    |    |    |-- season: long (nullable = true)\n",
            " |    |    |    |-- summary: string (nullable = true)\n",
            " |    |    |    |-- url: string (nullable = true)\n",
            " |-- _links: struct (nullable = true)\n",
            " |    |-- previousepisode: struct (nullable = true)\n",
            " |    |    |-- href: string (nullable = true)\n",
            " |    |-- self: struct (nullable = true)\n",
            " |    |    |-- href: string (nullable = true)\n",
            " |-- externals: struct (nullable = true)\n",
            " |    |-- imdb: string (nullable = true)\n",
            " |    |-- thetvdb: long (nullable = true)\n",
            " |    |-- tvrage: long (nullable = true)\n",
            " |-- genres: array (nullable = true)\n",
            " |    |-- element: string (containsNull = true)\n",
            " |-- id: long (nullable = true)\n",
            " |-- image: struct (nullable = true)\n",
            " |    |-- medium: string (nullable = true)\n",
            " |    |-- original: string (nullable = true)\n",
            " |-- language: string (nullable = true)\n",
            " |-- name: string (nullable = true)\n",
            " |-- network: struct (nullable = true)\n",
            " |    |-- country: struct (nullable = true)\n",
            " |    |    |-- code: string (nullable = true)\n",
            " |    |    |-- name: string (nullable = true)\n",
            " |    |    |-- timezone: string (nullable = true)\n",
            " |    |-- id: long (nullable = true)\n",
            " |    |-- name: string (nullable = true)\n",
            " |-- officialSite: string (nullable = true)\n",
            " |-- premiered: string (nullable = true)\n",
            " |-- rating: struct (nullable = true)\n",
            " |    |-- average: double (nullable = true)\n",
            " |-- runtime: long (nullable = true)\n",
            " |-- schedule: struct (nullable = true)\n",
            " |    |-- days: array (nullable = true)\n",
            " |    |    |-- element: string (containsNull = true)\n",
            " |    |-- time: string (nullable = true)\n",
            " |-- status: string (nullable = true)\n",
            " |-- summary: string (nullable = true)\n",
            " |-- type: string (nullable = true)\n",
            " |-- updated: long (nullable = true)\n",
            " |-- url: string (nullable = true)\n",
            " |-- webChannel: struct (nullable = true)\n",
            " |    |-- country: string (nullable = true)\n",
            " |    |-- id: long (nullable = true)\n",
            " |    |-- name: string (nullable = true)\n",
            " |-- weight: long (nullable = true)\n",
            "\n"
          ]
        }
      ]
    },
    {
      "cell_type": "code",
      "source": [
        "print(three_shows.columns)"
      ],
      "metadata": {
        "colab": {
          "base_uri": "https://localhost:8080/"
        },
        "id": "s_-MgSR-1M5a",
        "outputId": "f55e377f-e95a-4fb7-bc73-bd9f6b6d0b08"
      },
      "execution_count": 37,
      "outputs": [
        {
          "output_type": "stream",
          "name": "stdout",
          "text": [
            "['_embedded', '_links', 'externals', 'genres', 'id', 'image', 'language', 'name', 'network', 'officialSite', 'premiered', 'rating', 'runtime', 'schedule', 'status', 'summary', 'type', 'updated', 'url', 'webChannel', 'weight']\n"
          ]
        }
      ]
    },
    {
      "cell_type": "code",
      "source": [
        "arrays_subset = shows.select('name', 'genres')\n",
        "arrays_subset.show(1)"
      ],
      "metadata": {
        "colab": {
          "base_uri": "https://localhost:8080/"
        },
        "id": "4cRmqcsC1e0S",
        "outputId": "5e4987ac-6e3c-4f3b-ae5a-cf10cc76a6cf"
      },
      "execution_count": 43,
      "outputs": [
        {
          "output_type": "stream",
          "name": "stdout",
          "text": [
            "+--------------+--------+\n",
            "|          name|  genres|\n",
            "+--------------+--------+\n",
            "|Silicon Valley|[Comedy]|\n",
            "+--------------+--------+\n",
            "\n"
          ]
        }
      ]
    },
    {
      "cell_type": "code",
      "source": [
        "import pyspark.sql.functions as F\n",
        "\n",
        "arrays_subset = arrays_subset.select(\n",
        "    \"name\",\n",
        "    arrays_subset.genres[0].alias(\"dot_and_index\"),\n",
        "    F.col(\"genres\")[0].alias(\"col_and_index\"),\n",
        "    arrays_subset.genres.getItem(0).alias(\"dot_and_method\"),\n",
        "    F.col(\"genres\").getItem(0).alias(\"col_and_method\"),\n",
        ")\n",
        "\n",
        "arrays_subset.show()"
      ],
      "metadata": {
        "colab": {
          "base_uri": "https://localhost:8080/"
        },
        "id": "oU1t1SIH208c",
        "outputId": "d6d1229a-ad66-41b5-bddf-3b642b4a8882"
      },
      "execution_count": 44,
      "outputs": [
        {
          "output_type": "stream",
          "name": "stdout",
          "text": [
            "+--------------+-------------+-------------+--------------+--------------+\n",
            "|          name|dot_and_index|col_and_index|dot_and_method|col_and_method|\n",
            "+--------------+-------------+-------------+--------------+--------------+\n",
            "|Silicon Valley|       Comedy|       Comedy|        Comedy|        Comedy|\n",
            "+--------------+-------------+-------------+--------------+--------------+\n",
            "\n"
          ]
        }
      ]
    },
    {
      "cell_type": "code",
      "source": [],
      "metadata": {
        "colab": {
          "base_uri": "https://localhost:8080/",
          "height": 34
        },
        "id": "ngiT4LGu4B2h",
        "outputId": "72cc91f9-5bcf-473a-f11c-0d1bc6ba6ee4"
      },
      "execution_count": 47,
      "outputs": [
        {
          "output_type": "display_data",
          "data": {
            "text/plain": [
              "Column<'name'>"
            ]
          },
          "metadata": {}
        }
      ]
    },
    {
      "cell_type": "code",
      "source": [
        "array_subset_repeated = arrays_subset.select(\n",
        "    \"name\",\n",
        "    F.lit('Comedy').alias('One'),\n",
        "    F.lit('Horror').alias('Two'),\n",
        "    F.lit('Thriller').alias('Three'),\n",
        "    F.col('dot_and_index')\n",
        "\n",
        ").select(\n",
        "    \"name\",\n",
        "    F.array(\"One\", \"Two\", \"Three\").alias(\"Some_generes\"),\n",
        "    F.array_repeat(\"dot_and_index\", 6).alias(\"Repeated_Generes\")\n",
        ")"
      ],
      "metadata": {
        "id": "SZWfV3e94bK-"
      },
      "execution_count": 57,
      "outputs": []
    },
    {
      "cell_type": "code",
      "source": [
        "array_subset_repeated.show(1, False)"
      ],
      "metadata": {
        "colab": {
          "base_uri": "https://localhost:8080/"
        },
        "id": "SS0a5jGP5aRI",
        "outputId": "4345674a-a365-444c-833e-3192d332a2a7"
      },
      "execution_count": 58,
      "outputs": [
        {
          "output_type": "stream",
          "name": "stdout",
          "text": [
            "+--------------+--------------------------+------------------------------------------------+\n",
            "|name          |Some_generes              |Repeated_Generes                                |\n",
            "+--------------+--------------------------+------------------------------------------------+\n",
            "|Silicon Valley|[Comedy, Horror, Thriller]|[Comedy, Comedy, Comedy, Comedy, Comedy, Comedy]|\n",
            "+--------------+--------------------------+------------------------------------------------+\n",
            "\n"
          ]
        }
      ]
    },
    {
      "cell_type": "code",
      "source": [
        "# array_subset_repeated.select(\n",
        "#     \"name\", F.size(\"Some_Genres\"), F.size(\"Repeated_Genres\")            ❸\n",
        "# ).show()\n",
        "\n",
        "\n",
        "array_subset_repeated.select(\n",
        "    \"name\",\n",
        "    F.size(\"Some_generes\"),\n",
        "    F.size(\"Repeated_Generes\")\n",
        ").show()"
      ],
      "metadata": {
        "colab": {
          "base_uri": "https://localhost:8080/"
        },
        "id": "FjblGVad5cvg",
        "outputId": "6a6af186-a486-4b24-c672-805aeeb6a21c"
      },
      "execution_count": 59,
      "outputs": [
        {
          "output_type": "stream",
          "name": "stdout",
          "text": [
            "+--------------+------------------+----------------------+\n",
            "|          name|size(Some_generes)|size(Repeated_Generes)|\n",
            "+--------------+------------------+----------------------+\n",
            "|Silicon Valley|                 3|                     6|\n",
            "+--------------+------------------+----------------------+\n",
            "\n"
          ]
        }
      ]
    },
    {
      "cell_type": "code",
      "source": [
        "# array_subset_repeated.select(\n",
        "#     \"name\",\n",
        "#     F.array_distinct(\"Some_Genres\"),                                    ❹\n",
        "#     F.array_distinct(\"Repeated_Genres\"),                                ❹\n",
        "# ).show(1, False)\n",
        "\n",
        "array_subset_repeated.select(\n",
        "    \"name\",\n",
        "    F.array_distinct(\"Some_generes\"),\n",
        "    F.array_distinct(\"Repeated_Generes\")\n",
        ").show(1, False)"
      ],
      "metadata": {
        "colab": {
          "base_uri": "https://localhost:8080/"
        },
        "id": "WrrPt3uh620V",
        "outputId": "06111e0a-b5a9-459e-93ff-3347c5125b2d"
      },
      "execution_count": 61,
      "outputs": [
        {
          "output_type": "stream",
          "name": "stdout",
          "text": [
            "+--------------+----------------------------+--------------------------------+\n",
            "|name          |array_distinct(Some_generes)|array_distinct(Repeated_Generes)|\n",
            "+--------------+----------------------------+--------------------------------+\n",
            "|Silicon Valley|[Comedy, Horror, Thriller]  |[Comedy]                        |\n",
            "+--------------+----------------------------+--------------------------------+\n",
            "\n"
          ]
        }
      ]
    },
    {
      "cell_type": "code",
      "source": [
        "# array_subset_repeated = array_subset_repeated.select(\n",
        "#     \"name\",\n",
        "#     F.array_intersect(\"Some_Genres\", \"Repeated_Genres\").alias(          ❺\n",
        "#         \"Genres\"\n",
        "#     ),\n",
        "# )\n",
        "\n",
        "# intersect\n",
        "array_subset_repeated.select(\n",
        "    \"name\",\n",
        "    F.array_intersect(\n",
        "        \"Some_generes\",\n",
        "        \"Repeated_Generes\"\n",
        "    ).alias('IntersectedArray')\n",
        ").show()"
      ],
      "metadata": {
        "colab": {
          "base_uri": "https://localhost:8080/"
        },
        "id": "Bnv7Sjkv7MyH",
        "outputId": "17932b64-b253-461a-fdf7-cf120d3e5ec4"
      },
      "execution_count": 62,
      "outputs": [
        {
          "output_type": "stream",
          "name": "stdout",
          "text": [
            "+--------------+----------------+\n",
            "|          name|IntersectedArray|\n",
            "+--------------+----------------+\n",
            "|Silicon Valley|        [Comedy]|\n",
            "+--------------+----------------+\n",
            "\n"
          ]
        }
      ]
    },
    {
      "cell_type": "code",
      "source": [
        "# # array_position\n",
        "# array_subset_repeated.select(\n",
        "#     \"Genres\", F.array_position(\"Genres\", \"Comedy\")\n",
        "# ).show()\n",
        "\n",
        "array_subset_repeated.select(\n",
        "    \"Some_generes\",\n",
        "    F.array_position(\"Some_generes\", \"Comedy\")\n",
        ").show()"
      ],
      "metadata": {
        "colab": {
          "base_uri": "https://localhost:8080/"
        },
        "id": "IeDQQsNG7pre",
        "outputId": "2d6a4272-1848-46a0-fdad-1be96ddc6974"
      },
      "execution_count": 64,
      "outputs": [
        {
          "output_type": "stream",
          "name": "stdout",
          "text": [
            "+--------------------+------------------------------------+\n",
            "|        Some_generes|array_position(Some_generes, Comedy)|\n",
            "+--------------------+------------------------------------+\n",
            "|[Comedy, Horror, ...|                                   1|\n",
            "+--------------------+------------------------------------+\n",
            "\n"
          ]
        }
      ]
    },
    {
      "cell_type": "code",
      "source": [],
      "metadata": {
        "id": "9lhSvTwl8k0A"
      },
      "execution_count": null,
      "outputs": []
    }
  ],
  "metadata": {
    "colab": {
      "provenance": [],
      "authorship_tag": "ABX9TyO3K19TFfVSqPteiILWZV8l",
      "include_colab_link": true
    },
    "kernelspec": {
      "display_name": "Python 3",
      "name": "python3"
    },
    "language_info": {
      "name": "python"
    }
  },
  "nbformat": 4,
  "nbformat_minor": 0
}