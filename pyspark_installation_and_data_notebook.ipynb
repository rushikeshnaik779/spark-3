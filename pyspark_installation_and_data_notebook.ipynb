{
  "cells": [
    {
      "cell_type": "markdown",
      "metadata": {
        "id": "view-in-github",
        "colab_type": "text"
      },
      "source": [
        "<a href=\"https://colab.research.google.com/github/rushikeshnaik779/spark-3/blob/main/pyspark_installation_and_data_notebook.ipynb\" target=\"_parent\"><img src=\"https://colab.research.google.com/assets/colab-badge.svg\" alt=\"Open In Colab\"/></a>"
      ]
    },
    {
      "cell_type": "code",
      "execution_count": 1,
      "metadata": {
        "id": "svHhC1Pm_0MV"
      },
      "outputs": [],
      "source": [
        "# Download Java Virtual Machine (JVM)\n",
        "!apt-get install openjdk-8-jdk-headless -qq > /dev/null"
      ]
    },
    {
      "cell_type": "code",
      "execution_count": 2,
      "metadata": {
        "id": "HidOfD5bAD0h"
      },
      "outputs": [],
      "source": [
        "!wget -q https://dlcdn.apache.org/spark/spark-3.5.0/spark-3.5.0-bin-hadoop3.tgz\n",
        "!tar xf spark-3.5.0-bin-hadoop3.tgz"
      ]
    },
    {
      "cell_type": "code",
      "execution_count": 3,
      "metadata": {
        "colab": {
          "base_uri": "https://localhost:8080/"
        },
        "id": "fuCI2scIAT7V",
        "outputId": "50c4a608-bd0a-4219-d77a-5fc42e4187ab"
      },
      "outputs": [
        {
          "output_type": "stream",
          "name": "stdout",
          "text": [
            "sample_data  spark-3.5.0-bin-hadoop3  spark-3.5.0-bin-hadoop3.tgz\n"
          ]
        }
      ],
      "source": [
        "!ls"
      ]
    },
    {
      "cell_type": "code",
      "execution_count": 4,
      "metadata": {
        "id": "YVcNhC4GA1X8"
      },
      "outputs": [],
      "source": [
        "import os\n",
        "os.environ[\"JAVA_HOME\"] = \"/usr/lib/jvm/java-8-openjdk-amd64\"\n",
        "os.environ[\"SPARK_HOME\"] = \"/content/spark-3.5.0-bin-hadoop3\""
      ]
    },
    {
      "cell_type": "code",
      "execution_count": 5,
      "metadata": {
        "id": "jZfLqrAqA6Zx"
      },
      "outputs": [],
      "source": [
        "!pip install -q findspark\n",
        "import findspark\n",
        "findspark.init()\n"
      ]
    },
    {
      "cell_type": "code",
      "execution_count": 6,
      "metadata": {
        "id": "GQ5WavsZA9a4"
      },
      "outputs": [],
      "source": [
        "from pyspark.sql import SparkSession\n",
        "spark = SparkSession.builder\\\n",
        "        .master(\"local\")\\\n",
        "        .appName(\"Colab\")\\\n",
        "        .config('spark.ui.port', '4050')\\\n",
        "        .getOrCreate()"
      ]
    },
    {
      "cell_type": "code",
      "execution_count": 7,
      "metadata": {
        "colab": {
          "base_uri": "https://localhost:8080/"
        },
        "id": "le_SB2WQBDD5",
        "outputId": "03ad4b5b-e76b-4454-f829-e7c35cba822d"
      },
      "outputs": [
        {
          "output_type": "stream",
          "name": "stdout",
          "text": [
            "Cloning into 'DataAnalysisWithPythonAndPySpark-Data'...\n",
            "remote: Enumerating objects: 71, done.\u001b[K\n",
            "remote: Total 71 (delta 0), reused 0 (delta 0), pack-reused 71\u001b[K\n",
            "Receiving objects: 100% (71/71), 828.81 MiB | 23.62 MiB/s, done.\n",
            "Updating files: 100% (59/59), done.\n"
          ]
        }
      ],
      "source": [
        "!git clone https://github.com/jonesberg/DataAnalysisWithPythonAndPySpark-Data.git"
      ]
    },
    {
      "cell_type": "code",
      "execution_count": 8,
      "metadata": {
        "colab": {
          "base_uri": "https://localhost:8080/"
        },
        "id": "aCQZ2onvCVym",
        "outputId": "ff572a59-b70b-494d-cde1-03c4884e8e48"
      },
      "outputs": [
        {
          "output_type": "stream",
          "name": "stdout",
          "text": [
            "DataAnalysisWithPythonAndPySpark-Data  spark-3.5.0-bin-hadoop3\n",
            "sample_data\t\t\t       spark-3.5.0-bin-hadoop3.tgz\n"
          ]
        }
      ],
      "source": [
        "!ls"
      ]
    },
    {
      "cell_type": "code",
      "execution_count": 9,
      "metadata": {
        "id": "3uJZyBw0Bdid"
      },
      "outputs": [],
      "source": [
        "# import os\n",
        "\n",
        "# import pyspark.sql.functions as F\n",
        "# from pyspark.sql import SparkSession\n",
        "\n",
        "# spark = SparkSession.builder.appName(\n",
        "#     \"Getting the Canadian TV channels with the highest/lowest proportion of commercials.\"\n",
        "# ).getOrCreate()\n",
        "\n",
        "# spark.sparkContext.setLogLevel(\"WARN\")\n",
        "\n",
        "# # Reading all the relevant data sources\n",
        "\n",
        "# DIRECTORY = \"./DataAnalysisWithPythonAndPySpark-Data/broadcast_logs\"\n",
        "\n",
        "# logs = spark.read.csv(\n",
        "#     os.path.join(DIRECTORY, \"BroadcastLogs_2018_Q3_M8_sample.CSV\"),\n",
        "#     sep=\"|\",\n",
        "#     header=True,\n",
        "#     inferSchema=True,\n",
        "# )\n",
        "\n",
        "# log_identifier = spark.read.csv(\n",
        "#     os.path.join(DIRECTORY, \"ReferenceTables/LogIdentifier.csv\"),\n",
        "#     sep=\"|\",\n",
        "#     header=True,\n",
        "#     inferSchema=True,\n",
        "# )\n",
        "# cd_category = spark.read.csv(\n",
        "#     os.path.join(DIRECTORY, \"ReferenceTables/CD_Category.csv\"),\n",
        "#     sep=\"|\",\n",
        "#     header=True,\n",
        "#     inferSchema=True,\n",
        "# ).select(\n",
        "#     \"CategoryID\",\n",
        "#     \"CategoryCD\",\n",
        "#     F.col(\"EnglishDescription\").alias(\"Category_Description\"),\n",
        "# )\n",
        "\n",
        "# cd_program_class = spark.read.csv(\n",
        "#     \"./DataAnalysisWithPythonAndPySpark-Data/broadcast_logs/ReferenceTables/CD_ProgramClass.csv\",\n",
        "#     sep=\"|\",\n",
        "#     header=True,\n",
        "#     inferSchema=True,\n",
        "# ).select(\n",
        "#     \"ProgramClassID\",\n",
        "#     \"ProgramClassCD\",\n",
        "#     F.col(\"EnglishDescription\").alias(\"ProgramClass_Description\"),\n",
        "# )\n",
        "\n",
        "# # Data processing\n",
        "\n",
        "# logs = logs.drop(\"BroadcastLogID\", \"SequenceNO\")\n",
        "\n",
        "# logs = logs.withColumn(\n",
        "#     \"duration_seconds\",\n",
        "#     (\n",
        "#         F.col(\"Duration\").substr(1, 2).cast(\"int\") * 60 * 60\n",
        "#         + F.col(\"Duration\").substr(4, 2).cast(\"int\") * 60\n",
        "#         + F.col(\"Duration\").substr(7, 2).cast(\"int\")\n",
        "#     ),\n",
        "# )\n",
        "\n",
        "# log_identifier = log_identifier.where(F.col(\"PrimaryFG\") == 1)\n",
        "\n",
        "# logs_and_channels = logs.join(log_identifier, \"LogServiceID\")\n",
        "\n",
        "# full_log = logs_and_channels.join(cd_category, \"CategoryID\", how=\"left\").join(\n",
        "#     cd_program_class, \"ProgramClassID\", how=\"left\"\n",
        "# )\n",
        "\n",
        "# answer = (\n",
        "#     full_log.groupby(\"LogIdentifierID\")\n",
        "#     .agg(\n",
        "#         F.sum(\n",
        "#             F.when(\n",
        "#                 F.trim(F.col(\"ProgramClassCD\")).isin(\n",
        "#                     [\"COM\", \"PRC\", \"PGI\", \"PRO\", \"LOC\", \"SPO\", \"MER\", \"SOL\"]\n",
        "#                 ),\n",
        "#                 F.col(\"duration_seconds\"),\n",
        "#             ).otherwise(0)\n",
        "#         ).alias(\"duration_commercial\"),\n",
        "#         F.sum(\"duration_seconds\").alias(\"duration_total\"),\n",
        "#     )\n",
        "#     .withColumn(\n",
        "#         \"commercial_ratio\", F.col(\"duration_commercial\") / F.col(\"duration_total\")\n",
        "#     )\n",
        "#     .fillna(0)\n",
        "# )\n",
        "\n",
        "# answer.orderBy(\"commercial_ratio\", ascending=False).show(1000, False)"
      ]
    },
    {
      "cell_type": "code",
      "execution_count": 10,
      "metadata": {
        "id": "ljlao6sLCZP8",
        "colab": {
          "base_uri": "https://localhost:8080/",
          "height": 193
        },
        "outputId": "2abbb7fc-a89a-4b15-9569-5e0b61eb2573"
      },
      "outputs": [
        {
          "output_type": "display_data",
          "data": {
            "text/plain": [
              "DataFrame[_embedded: struct<episodes:array<struct<_links:struct<self:struct<href:string>>,airdate:string,airstamp:string,airtime:string,id:bigint,image:struct<medium:string,original:string>,name:string,number:bigint,runtime:bigint,season:bigint,summary:string,url:string>>>, _links: struct<previousepisode:struct<href:string>,self:struct<href:string>>, externals: struct<imdb:string,thetvdb:bigint,tvrage:bigint>, genres: array<string>, id: bigint, image: struct<medium:string,original:string>, language: string, name: string, network: struct<country:struct<code:string,name:string,timezone:string>,id:bigint,name:string>, officialSite: string, premiered: string, rating: struct<average:double>, runtime: bigint, schedule: struct<days:array<string>,time:string>, status: string, summary: string, type: string, updated: bigint, url: string, webChannel: string, weight: bigint]"
            ]
          },
          "metadata": {}
        }
      ],
      "source": [
        "# spark json\n",
        "from pyspark.sql import SparkSession\n",
        "\n",
        "spark = SparkSession.builder.getOrCreate()\n",
        "\n",
        "shows = spark.read.json('DataAnalysisWithPythonAndPySpark-Data/shows/shows-silicon-valley.json')\n",
        "\n",
        "display(shows)"
      ]
    },
    {
      "cell_type": "code",
      "execution_count": 11,
      "metadata": {
        "colab": {
          "base_uri": "https://localhost:8080/"
        },
        "id": "paQaXUXrsSqq",
        "outputId": "f7227c0e-082b-4d0c-8873-b99721c773c3"
      },
      "outputs": [
        {
          "output_type": "stream",
          "name": "stdout",
          "text": [
            "pokedex.dsv  shows-breaking-bad.json  shows-golden-girls.json  shows-silicon-valley.json\n"
          ]
        }
      ],
      "source": [
        "!ls \"DataAnalysisWithPythonAndPySpark-Data/shows\""
      ]
    },
    {
      "cell_type": "code",
      "execution_count": 12,
      "metadata": {
        "id": "llnAmf3PsqVg",
        "colab": {
          "base_uri": "https://localhost:8080/"
        },
        "outputId": "5fd5d6b2-a74c-401e-b474-62093aec2c7b"
      },
      "outputs": [
        {
          "output_type": "execute_result",
          "data": {
            "text/plain": [
              "1"
            ]
          },
          "metadata": {},
          "execution_count": 12
        }
      ],
      "source": [
        "shows.count()"
      ]
    },
    {
      "cell_type": "code",
      "source": [
        "three_shows = spark.read.json(\"DataAnalysisWithPythonAndPySpark-Data/shows/shows-*.json\", multiLine=True)\n",
        "display(three_shows)"
      ],
      "metadata": {
        "colab": {
          "base_uri": "https://localhost:8080/",
          "height": 211
        },
        "id": "_QdPQNo6ykdu",
        "outputId": "99d45a7e-de26-4934-f591-89f1048475cc"
      },
      "execution_count": 13,
      "outputs": [
        {
          "output_type": "display_data",
          "data": {
            "text/plain": [
              "DataFrame[_embedded: struct<episodes:array<struct<_links:struct<self:struct<href:string>>,airdate:string,airstamp:string,airtime:string,id:bigint,image:struct<medium:string,original:string>,name:string,number:bigint,runtime:bigint,season:bigint,summary:string,url:string>>>, _links: struct<previousepisode:struct<href:string>,self:struct<href:string>>, externals: struct<imdb:string,thetvdb:bigint,tvrage:bigint>, genres: array<string>, id: bigint, image: struct<medium:string,original:string>, language: string, name: string, network: struct<country:struct<code:string,name:string,timezone:string>,id:bigint,name:string>, officialSite: string, premiered: string, rating: struct<average:double>, runtime: bigint, schedule: struct<days:array<string>,time:string>, status: string, summary: string, type: string, updated: bigint, url: string, webChannel: struct<country:string,id:bigint,name:string>, weight: bigint]"
            ]
          },
          "metadata": {}
        }
      ]
    },
    {
      "cell_type": "code",
      "source": [
        "three_shows.printSchema()"
      ],
      "metadata": {
        "colab": {
          "base_uri": "https://localhost:8080/"
        },
        "id": "_LnaVvg3zXIT",
        "outputId": "8dd63a9f-c193-4a4f-dd9a-5444651e7fa6"
      },
      "execution_count": 14,
      "outputs": [
        {
          "output_type": "stream",
          "name": "stdout",
          "text": [
            "root\n",
            " |-- _embedded: struct (nullable = true)\n",
            " |    |-- episodes: array (nullable = true)\n",
            " |    |    |-- element: struct (containsNull = true)\n",
            " |    |    |    |-- _links: struct (nullable = true)\n",
            " |    |    |    |    |-- self: struct (nullable = true)\n",
            " |    |    |    |    |    |-- href: string (nullable = true)\n",
            " |    |    |    |-- airdate: string (nullable = true)\n",
            " |    |    |    |-- airstamp: string (nullable = true)\n",
            " |    |    |    |-- airtime: string (nullable = true)\n",
            " |    |    |    |-- id: long (nullable = true)\n",
            " |    |    |    |-- image: struct (nullable = true)\n",
            " |    |    |    |    |-- medium: string (nullable = true)\n",
            " |    |    |    |    |-- original: string (nullable = true)\n",
            " |    |    |    |-- name: string (nullable = true)\n",
            " |    |    |    |-- number: long (nullable = true)\n",
            " |    |    |    |-- runtime: long (nullable = true)\n",
            " |    |    |    |-- season: long (nullable = true)\n",
            " |    |    |    |-- summary: string (nullable = true)\n",
            " |    |    |    |-- url: string (nullable = true)\n",
            " |-- _links: struct (nullable = true)\n",
            " |    |-- previousepisode: struct (nullable = true)\n",
            " |    |    |-- href: string (nullable = true)\n",
            " |    |-- self: struct (nullable = true)\n",
            " |    |    |-- href: string (nullable = true)\n",
            " |-- externals: struct (nullable = true)\n",
            " |    |-- imdb: string (nullable = true)\n",
            " |    |-- thetvdb: long (nullable = true)\n",
            " |    |-- tvrage: long (nullable = true)\n",
            " |-- genres: array (nullable = true)\n",
            " |    |-- element: string (containsNull = true)\n",
            " |-- id: long (nullable = true)\n",
            " |-- image: struct (nullable = true)\n",
            " |    |-- medium: string (nullable = true)\n",
            " |    |-- original: string (nullable = true)\n",
            " |-- language: string (nullable = true)\n",
            " |-- name: string (nullable = true)\n",
            " |-- network: struct (nullable = true)\n",
            " |    |-- country: struct (nullable = true)\n",
            " |    |    |-- code: string (nullable = true)\n",
            " |    |    |-- name: string (nullable = true)\n",
            " |    |    |-- timezone: string (nullable = true)\n",
            " |    |-- id: long (nullable = true)\n",
            " |    |-- name: string (nullable = true)\n",
            " |-- officialSite: string (nullable = true)\n",
            " |-- premiered: string (nullable = true)\n",
            " |-- rating: struct (nullable = true)\n",
            " |    |-- average: double (nullable = true)\n",
            " |-- runtime: long (nullable = true)\n",
            " |-- schedule: struct (nullable = true)\n",
            " |    |-- days: array (nullable = true)\n",
            " |    |    |-- element: string (containsNull = true)\n",
            " |    |-- time: string (nullable = true)\n",
            " |-- status: string (nullable = true)\n",
            " |-- summary: string (nullable = true)\n",
            " |-- type: string (nullable = true)\n",
            " |-- updated: long (nullable = true)\n",
            " |-- url: string (nullable = true)\n",
            " |-- webChannel: struct (nullable = true)\n",
            " |    |-- country: string (nullable = true)\n",
            " |    |-- id: long (nullable = true)\n",
            " |    |-- name: string (nullable = true)\n",
            " |-- weight: long (nullable = true)\n",
            "\n"
          ]
        }
      ]
    },
    {
      "cell_type": "code",
      "source": [
        "print(three_shows.columns)"
      ],
      "metadata": {
        "colab": {
          "base_uri": "https://localhost:8080/"
        },
        "id": "s_-MgSR-1M5a",
        "outputId": "43d2e10e-6f6d-4032-da6b-0ac169e06042"
      },
      "execution_count": 15,
      "outputs": [
        {
          "output_type": "stream",
          "name": "stdout",
          "text": [
            "['_embedded', '_links', 'externals', 'genres', 'id', 'image', 'language', 'name', 'network', 'officialSite', 'premiered', 'rating', 'runtime', 'schedule', 'status', 'summary', 'type', 'updated', 'url', 'webChannel', 'weight']\n"
          ]
        }
      ]
    },
    {
      "cell_type": "code",
      "source": [
        "arrays_subset = shows.select('name', 'genres')\n",
        "arrays_subset.show(1)"
      ],
      "metadata": {
        "colab": {
          "base_uri": "https://localhost:8080/"
        },
        "id": "4cRmqcsC1e0S",
        "outputId": "63a97dde-31a0-49dd-bc02-2312d61ad77b"
      },
      "execution_count": 16,
      "outputs": [
        {
          "output_type": "stream",
          "name": "stdout",
          "text": [
            "+--------------+--------+\n",
            "|          name|  genres|\n",
            "+--------------+--------+\n",
            "|Silicon Valley|[Comedy]|\n",
            "+--------------+--------+\n",
            "\n"
          ]
        }
      ]
    },
    {
      "cell_type": "code",
      "source": [
        "import pyspark.sql.functions as F\n",
        "\n",
        "arrays_subset = arrays_subset.select(\n",
        "    \"name\",\n",
        "    arrays_subset.genres[0].alias(\"dot_and_index\"),\n",
        "    F.col(\"genres\")[0].alias(\"col_and_index\"),\n",
        "    arrays_subset.genres.getItem(0).alias(\"dot_and_method\"),\n",
        "    F.col(\"genres\").getItem(0).alias(\"col_and_method\"),\n",
        ")\n",
        "\n",
        "arrays_subset.show()"
      ],
      "metadata": {
        "colab": {
          "base_uri": "https://localhost:8080/"
        },
        "id": "oU1t1SIH208c",
        "outputId": "30305df4-119e-429b-d919-78d3f1a8d116"
      },
      "execution_count": 17,
      "outputs": [
        {
          "output_type": "stream",
          "name": "stdout",
          "text": [
            "+--------------+-------------+-------------+--------------+--------------+\n",
            "|          name|dot_and_index|col_and_index|dot_and_method|col_and_method|\n",
            "+--------------+-------------+-------------+--------------+--------------+\n",
            "|Silicon Valley|       Comedy|       Comedy|        Comedy|        Comedy|\n",
            "+--------------+-------------+-------------+--------------+--------------+\n",
            "\n"
          ]
        }
      ]
    },
    {
      "cell_type": "code",
      "source": [],
      "metadata": {
        "id": "ngiT4LGu4B2h"
      },
      "execution_count": 17,
      "outputs": []
    },
    {
      "cell_type": "code",
      "source": [
        "array_subset_repeated = arrays_subset.select(\n",
        "    \"name\",\n",
        "    F.lit('Comedy').alias('One'),\n",
        "    F.lit('Horror').alias('Two'),\n",
        "    F.lit('Thriller').alias('Three'),\n",
        "    F.col('dot_and_index')\n",
        "\n",
        ").select(\n",
        "    \"name\",\n",
        "    F.array(\"One\", \"Two\", \"Three\").alias(\"Some_generes\"),\n",
        "    F.array_repeat(\"dot_and_index\", 6).alias(\"Repeated_Generes\")\n",
        ")"
      ],
      "metadata": {
        "id": "SZWfV3e94bK-"
      },
      "execution_count": 18,
      "outputs": []
    },
    {
      "cell_type": "code",
      "source": [
        "array_subset_repeated.show(1, False)"
      ],
      "metadata": {
        "colab": {
          "base_uri": "https://localhost:8080/"
        },
        "id": "SS0a5jGP5aRI",
        "outputId": "c4997344-91e5-41f0-d452-1b719d9ffa99"
      },
      "execution_count": 19,
      "outputs": [
        {
          "output_type": "stream",
          "name": "stdout",
          "text": [
            "+--------------+--------------------------+------------------------------------------------+\n",
            "|name          |Some_generes              |Repeated_Generes                                |\n",
            "+--------------+--------------------------+------------------------------------------------+\n",
            "|Silicon Valley|[Comedy, Horror, Thriller]|[Comedy, Comedy, Comedy, Comedy, Comedy, Comedy]|\n",
            "+--------------+--------------------------+------------------------------------------------+\n",
            "\n"
          ]
        }
      ]
    },
    {
      "cell_type": "code",
      "source": [
        "# array_subset_repeated.select(\n",
        "#     \"name\", F.size(\"Some_Genres\"), F.size(\"Repeated_Genres\")            ❸\n",
        "# ).show()\n",
        "\n",
        "\n",
        "array_subset_repeated.select(\n",
        "    \"name\",\n",
        "    F.size(\"Some_generes\"),\n",
        "    F.size(\"Repeated_Generes\")\n",
        ").show()"
      ],
      "metadata": {
        "colab": {
          "base_uri": "https://localhost:8080/"
        },
        "id": "FjblGVad5cvg",
        "outputId": "7833c0ab-6f93-4363-9a0a-a4d1e8883c98"
      },
      "execution_count": 20,
      "outputs": [
        {
          "output_type": "stream",
          "name": "stdout",
          "text": [
            "+--------------+------------------+----------------------+\n",
            "|          name|size(Some_generes)|size(Repeated_Generes)|\n",
            "+--------------+------------------+----------------------+\n",
            "|Silicon Valley|                 3|                     6|\n",
            "+--------------+------------------+----------------------+\n",
            "\n"
          ]
        }
      ]
    },
    {
      "cell_type": "code",
      "source": [
        "# array_subset_repeated.select(\n",
        "#     \"name\",\n",
        "#     F.array_distinct(\"Some_Genres\"),                                    ❹\n",
        "#     F.array_distinct(\"Repeated_Genres\"),                                ❹\n",
        "# ).show(1, False)\n",
        "\n",
        "array_subset_repeated.select(\n",
        "    \"name\",\n",
        "    F.array_distinct(\"Some_generes\"),\n",
        "    F.array_distinct(\"Repeated_Generes\")\n",
        ").show(1, False)"
      ],
      "metadata": {
        "colab": {
          "base_uri": "https://localhost:8080/"
        },
        "id": "WrrPt3uh620V",
        "outputId": "5247640a-a53d-4bcc-d170-f6b925110c42"
      },
      "execution_count": 21,
      "outputs": [
        {
          "output_type": "stream",
          "name": "stdout",
          "text": [
            "+--------------+----------------------------+--------------------------------+\n",
            "|name          |array_distinct(Some_generes)|array_distinct(Repeated_Generes)|\n",
            "+--------------+----------------------------+--------------------------------+\n",
            "|Silicon Valley|[Comedy, Horror, Thriller]  |[Comedy]                        |\n",
            "+--------------+----------------------------+--------------------------------+\n",
            "\n"
          ]
        }
      ]
    },
    {
      "cell_type": "code",
      "source": [
        "# array_subset_repeated = array_subset_repeated.select(\n",
        "#     \"name\",\n",
        "#     F.array_intersect(\"Some_Genres\", \"Repeated_Genres\").alias(          ❺\n",
        "#         \"Genres\"\n",
        "#     ),\n",
        "# )\n",
        "\n",
        "# intersect\n",
        "array_subset_repeated.select(\n",
        "    \"name\",\n",
        "    F.array_intersect(\n",
        "        \"Some_generes\",\n",
        "        \"Repeated_Generes\"\n",
        "    ).alias('IntersectedArray')\n",
        ").show()"
      ],
      "metadata": {
        "colab": {
          "base_uri": "https://localhost:8080/"
        },
        "id": "Bnv7Sjkv7MyH",
        "outputId": "4bcd9f2e-3e6b-40da-ff7a-1ba36abcd511"
      },
      "execution_count": 22,
      "outputs": [
        {
          "output_type": "stream",
          "name": "stdout",
          "text": [
            "+--------------+----------------+\n",
            "|          name|IntersectedArray|\n",
            "+--------------+----------------+\n",
            "|Silicon Valley|        [Comedy]|\n",
            "+--------------+----------------+\n",
            "\n"
          ]
        }
      ]
    },
    {
      "cell_type": "code",
      "source": [
        "# # array_position\n",
        "# array_subset_repeated.select(\n",
        "#     \"Genres\", F.array_position(\"Genres\", \"Comedy\")\n",
        "# ).show()\n",
        "\n",
        "array_subset_repeated.select(\n",
        "    \"Some_generes\",\n",
        "    F.array_position(\"Some_generes\", \"Comedy\")\n",
        ").show()"
      ],
      "metadata": {
        "colab": {
          "base_uri": "https://localhost:8080/"
        },
        "id": "IeDQQsNG7pre",
        "outputId": "256c4abf-b82a-43f2-864a-8f773b6b4951"
      },
      "execution_count": 23,
      "outputs": [
        {
          "output_type": "stream",
          "name": "stdout",
          "text": [
            "+--------------------+------------------------------------+\n",
            "|        Some_generes|array_position(Some_generes, Comedy)|\n",
            "+--------------------+------------------------------------+\n",
            "|[Comedy, Horror, ...|                                   1|\n",
            "+--------------------+------------------------------------+\n",
            "\n"
          ]
        }
      ]
    },
    {
      "cell_type": "code",
      "source": [
        "shows.show()"
      ],
      "metadata": {
        "colab": {
          "base_uri": "https://localhost:8080/"
        },
        "id": "9MbiZAao_Iuq",
        "outputId": "69e9903d-1afc-416c-9e42-ab26d150750e"
      },
      "execution_count": 24,
      "outputs": [
        {
          "output_type": "stream",
          "name": "stdout",
          "text": [
            "+--------------------+--------------------+--------------------+--------+---+--------------------+--------+--------------+--------------------+--------------------+----------+------+-------+-----------------+------+--------------------+--------+----------+--------------------+----------+------+\n",
            "|           _embedded|              _links|           externals|  genres| id|               image|language|          name|             network|        officialSite| premiered|rating|runtime|         schedule|status|             summary|    type|   updated|                 url|webChannel|weight|\n",
            "+--------------------+--------------------+--------------------+--------+---+--------------------+--------+--------------+--------------------+--------------------+----------+------+-------+-----------------+------+--------------------+--------+----------+--------------------+----------+------+\n",
            "|{[{{{http://api.t...|{{http://api.tvma...|{tt2575988, 27716...|[Comedy]|143|{http://static.tv...| English|Silicon Valley|{{US, United Stat...|http://www.hbo.co...|2014-04-06| {8.5}|     30|{[Sunday], 22:00}| Ended|<p>In the high-te...|Scripted|1576570329|http://www.tvmaze...|      NULL|    96|\n",
            "+--------------------+--------------------+--------------------+--------+---+--------------------+--------+--------------+--------------------+--------------------+----------+------+-------+-----------------+------+--------------------+--------+----------+--------------------+----------+------+\n",
            "\n"
          ]
        }
      ]
    },
    {
      "cell_type": "code",
      "source": [
        "columns = [\"name\", \"language\", \"type\"]\n",
        "\n",
        "shows_map = shows.select(\n",
        "    *[F.lit(column) for column in columns],\n",
        "    F.array(*columns).alias(\"values\"),\n",
        ")\n",
        "\n",
        "shows_map.show(1, False)"
      ],
      "metadata": {
        "colab": {
          "base_uri": "https://localhost:8080/"
        },
        "id": "9lhSvTwl8k0A",
        "outputId": "43069886-3098-4de2-ba51-feb1d1b6d060"
      },
      "execution_count": 25,
      "outputs": [
        {
          "output_type": "stream",
          "name": "stdout",
          "text": [
            "+----+--------+----+-----------------------------------+\n",
            "|name|language|type|values                             |\n",
            "+----+--------+----+-----------------------------------+\n",
            "|name|language|type|[Silicon Valley, English, Scripted]|\n",
            "+----+--------+----+-----------------------------------+\n",
            "\n"
          ]
        }
      ]
    },
    {
      "cell_type": "code",
      "source": [
        "shows_map = shows_map.select(F.array(*columns).alias(\"keys\"), \"values\")\n",
        "shows_map.show()"
      ],
      "metadata": {
        "colab": {
          "base_uri": "https://localhost:8080/"
        },
        "id": "L7mQO5FA_QHv",
        "outputId": "4eb6192c-3458-4f29-fccd-dcc38e61adc8"
      },
      "execution_count": 26,
      "outputs": [
        {
          "output_type": "stream",
          "name": "stdout",
          "text": [
            "+--------------------+--------------------+\n",
            "|                keys|              values|\n",
            "+--------------------+--------------------+\n",
            "|[name, language, ...|[Silicon Valley, ...|\n",
            "+--------------------+--------------------+\n",
            "\n"
          ]
        }
      ]
    },
    {
      "cell_type": "code",
      "source": [
        "shows_map = shows_map.select(\n",
        "    F.map_from_arrays(\"keys\", \"values\").alias(\"mapped\")\n",
        ")"
      ],
      "metadata": {
        "id": "ieaGq_49ADl6"
      },
      "execution_count": 27,
      "outputs": []
    },
    {
      "cell_type": "code",
      "source": [
        "shows_map.show(1, False)"
      ],
      "metadata": {
        "colab": {
          "base_uri": "https://localhost:8080/"
        },
        "id": "N8O460-3AOC8",
        "outputId": "ad3feb83-825b-4367-b721-116087cd40ec"
      },
      "execution_count": 28,
      "outputs": [
        {
          "output_type": "stream",
          "name": "stdout",
          "text": [
            "+---------------------------------------------------------------+\n",
            "|mapped                                                         |\n",
            "+---------------------------------------------------------------+\n",
            "|{name -> Silicon Valley, language -> English, type -> Scripted}|\n",
            "+---------------------------------------------------------------+\n",
            "\n"
          ]
        }
      ]
    },
    {
      "cell_type": "code",
      "source": [
        "shows_map.printSchema()"
      ],
      "metadata": {
        "colab": {
          "base_uri": "https://localhost:8080/"
        },
        "id": "NIiEOnWvAP7L",
        "outputId": "54413e74-87a6-4ad0-880a-de4c8ead19fc"
      },
      "execution_count": 29,
      "outputs": [
        {
          "output_type": "stream",
          "name": "stdout",
          "text": [
            "root\n",
            " |-- mapped: map (nullable = false)\n",
            " |    |-- key: string\n",
            " |    |-- value: string (valueContainsNull = true)\n",
            "\n"
          ]
        }
      ]
    },
    {
      "cell_type": "code",
      "source": [
        "# shows_map.select(\n",
        "#     F.col(\"mapped.name\"),      ❶\n",
        "#     F.col(\"mapped\")[\"name\"],   ❷\n",
        "#     shows_map.mapped[\"name\"],  ❸\n",
        "# ).show()\n",
        "\n",
        "shows_map.select(\n",
        "    F.col(\"mapped.name\"),\n",
        "    F.col(\"mapped\")[\"name\"],\n",
        "    shows_map.mapped[\"name\"],\n",
        ").show()"
      ],
      "metadata": {
        "colab": {
          "base_uri": "https://localhost:8080/"
        },
        "id": "HuPEpYPfAgpD",
        "outputId": "c48e8cac-d491-4855-dcfd-4081cc8b5cbf"
      },
      "execution_count": 30,
      "outputs": [
        {
          "output_type": "stream",
          "name": "stdout",
          "text": [
            "+--------------+--------------+--------------+\n",
            "|          name|  mapped[name]|  mapped[name]|\n",
            "+--------------+--------------+--------------+\n",
            "|Silicon Valley|Silicon Valley|Silicon Valley|\n",
            "+--------------+--------------+--------------+\n",
            "\n"
          ]
        }
      ]
    },
    {
      "cell_type": "code",
      "source": [
        "shows.select('Schedule').printSchema()"
      ],
      "metadata": {
        "colab": {
          "base_uri": "https://localhost:8080/"
        },
        "id": "coVvorfSA7kE",
        "outputId": "b4460863-4ff1-44c4-ada4-2c14b97f53e3"
      },
      "execution_count": 31,
      "outputs": [
        {
          "output_type": "stream",
          "name": "stdout",
          "text": [
            "root\n",
            " |-- Schedule: struct (nullable = true)\n",
            " |    |-- days: array (nullable = true)\n",
            " |    |    |-- element: string (containsNull = true)\n",
            " |    |-- time: string (nullable = true)\n",
            "\n"
          ]
        }
      ]
    },
    {
      "cell_type": "code",
      "source": [
        "shows.select(F.col(\"_embedded\")).printSchema()"
      ],
      "metadata": {
        "id": "JTXS9gRgC8Na",
        "colab": {
          "base_uri": "https://localhost:8080/"
        },
        "outputId": "f59b5225-ec15-4445-8b62-d0abaaa17f85"
      },
      "execution_count": 34,
      "outputs": [
        {
          "output_type": "stream",
          "name": "stdout",
          "text": [
            "root\n",
            " |-- _embedded: struct (nullable = true)\n",
            " |    |-- episodes: array (nullable = true)\n",
            " |    |    |-- element: struct (containsNull = true)\n",
            " |    |    |    |-- _links: struct (nullable = true)\n",
            " |    |    |    |    |-- self: struct (nullable = true)\n",
            " |    |    |    |    |    |-- href: string (nullable = true)\n",
            " |    |    |    |-- airdate: string (nullable = true)\n",
            " |    |    |    |-- airstamp: string (nullable = true)\n",
            " |    |    |    |-- airtime: string (nullable = true)\n",
            " |    |    |    |-- id: long (nullable = true)\n",
            " |    |    |    |-- image: struct (nullable = true)\n",
            " |    |    |    |    |-- medium: string (nullable = true)\n",
            " |    |    |    |    |-- original: string (nullable = true)\n",
            " |    |    |    |-- name: string (nullable = true)\n",
            " |    |    |    |-- number: long (nullable = true)\n",
            " |    |    |    |-- runtime: long (nullable = true)\n",
            " |    |    |    |-- season: long (nullable = true)\n",
            " |    |    |    |-- summary: string (nullable = true)\n",
            " |    |    |    |-- url: string (nullable = true)\n",
            "\n"
          ]
        }
      ]
    },
    {
      "cell_type": "code",
      "source": [
        "# promoting the fields within a struct as columns\n",
        "\n",
        "shows_clean = shows.withColumn(\n",
        "    \"episodes\", F.col(\"_embedded.episodes\")\n",
        ").drop(\"_embedded\")\n",
        "\n",
        "shows_clean.printSchema()"
      ],
      "metadata": {
        "colab": {
          "base_uri": "https://localhost:8080/"
        },
        "id": "KPSdG6Z_nadX",
        "outputId": "9b833de6-7365-4f41-bd71-73b6d353ec0c"
      },
      "execution_count": 35,
      "outputs": [
        {
          "output_type": "stream",
          "name": "stdout",
          "text": [
            "root\n",
            " |-- _links: struct (nullable = true)\n",
            " |    |-- previousepisode: struct (nullable = true)\n",
            " |    |    |-- href: string (nullable = true)\n",
            " |    |-- self: struct (nullable = true)\n",
            " |    |    |-- href: string (nullable = true)\n",
            " |-- externals: struct (nullable = true)\n",
            " |    |-- imdb: string (nullable = true)\n",
            " |    |-- thetvdb: long (nullable = true)\n",
            " |    |-- tvrage: long (nullable = true)\n",
            " |-- genres: array (nullable = true)\n",
            " |    |-- element: string (containsNull = true)\n",
            " |-- id: long (nullable = true)\n",
            " |-- image: struct (nullable = true)\n",
            " |    |-- medium: string (nullable = true)\n",
            " |    |-- original: string (nullable = true)\n",
            " |-- language: string (nullable = true)\n",
            " |-- name: string (nullable = true)\n",
            " |-- network: struct (nullable = true)\n",
            " |    |-- country: struct (nullable = true)\n",
            " |    |    |-- code: string (nullable = true)\n",
            " |    |    |-- name: string (nullable = true)\n",
            " |    |    |-- timezone: string (nullable = true)\n",
            " |    |-- id: long (nullable = true)\n",
            " |    |-- name: string (nullable = true)\n",
            " |-- officialSite: string (nullable = true)\n",
            " |-- premiered: string (nullable = true)\n",
            " |-- rating: struct (nullable = true)\n",
            " |    |-- average: double (nullable = true)\n",
            " |-- runtime: long (nullable = true)\n",
            " |-- schedule: struct (nullable = true)\n",
            " |    |-- days: array (nullable = true)\n",
            " |    |    |-- element: string (containsNull = true)\n",
            " |    |-- time: string (nullable = true)\n",
            " |-- status: string (nullable = true)\n",
            " |-- summary: string (nullable = true)\n",
            " |-- type: string (nullable = true)\n",
            " |-- updated: long (nullable = true)\n",
            " |-- url: string (nullable = true)\n",
            " |-- webChannel: string (nullable = true)\n",
            " |-- weight: long (nullable = true)\n",
            " |-- episodes: array (nullable = true)\n",
            " |    |-- element: struct (containsNull = true)\n",
            " |    |    |-- _links: struct (nullable = true)\n",
            " |    |    |    |-- self: struct (nullable = true)\n",
            " |    |    |    |    |-- href: string (nullable = true)\n",
            " |    |    |-- airdate: string (nullable = true)\n",
            " |    |    |-- airstamp: string (nullable = true)\n",
            " |    |    |-- airtime: string (nullable = true)\n",
            " |    |    |-- id: long (nullable = true)\n",
            " |    |    |-- image: struct (nullable = true)\n",
            " |    |    |    |-- medium: string (nullable = true)\n",
            " |    |    |    |-- original: string (nullable = true)\n",
            " |    |    |-- name: string (nullable = true)\n",
            " |    |    |-- number: long (nullable = true)\n",
            " |    |    |-- runtime: long (nullable = true)\n",
            " |    |    |-- season: long (nullable = true)\n",
            " |    |    |-- summary: string (nullable = true)\n",
            " |    |    |-- url: string (nullable = true)\n",
            "\n"
          ]
        }
      ]
    },
    {
      "cell_type": "code",
      "source": [
        "episodes_name = shows_clean.select(F.col(\"episodes.name\"))\n",
        "episodes_name.printSchema()"
      ],
      "metadata": {
        "colab": {
          "base_uri": "https://localhost:8080/"
        },
        "id": "hE50IiLBo34Y",
        "outputId": "cf20b448-5e64-483b-cc31-8ace0e7f0683"
      },
      "execution_count": 36,
      "outputs": [
        {
          "output_type": "stream",
          "name": "stdout",
          "text": [
            "root\n",
            " |-- name: array (nullable = true)\n",
            " |    |-- element: string (containsNull = true)\n",
            "\n"
          ]
        }
      ]
    },
    {
      "cell_type": "code",
      "source": [
        "episodes_name.select(F.explode(\"name\").alias(\"name\")).show(3, False)"
      ],
      "metadata": {
        "colab": {
          "base_uri": "https://localhost:8080/"
        },
        "id": "sJYHg_9optht",
        "outputId": "3360f5ca-18e0-454e-b603-3d56442439b7"
      },
      "execution_count": 37,
      "outputs": [
        {
          "output_type": "stream",
          "name": "stdout",
          "text": [
            "+-------------------------+\n",
            "|name                     |\n",
            "+-------------------------+\n",
            "|Minimum Viable Product   |\n",
            "|The Cap Table            |\n",
            "|Articles of Incorporation|\n",
            "+-------------------------+\n",
            "only showing top 3 rows\n",
            "\n"
          ]
        }
      ]
    },
    {
      "cell_type": "code",
      "source": [
        "display(episodes_name.select(\"name\"))"
      ],
      "metadata": {
        "colab": {
          "base_uri": "https://localhost:8080/",
          "height": 34
        },
        "id": "fdAJ-wa4qFbL",
        "outputId": "79dfcaf4-f957-4de6-b05d-a7e41d39a02e"
      },
      "execution_count": 39,
      "outputs": [
        {
          "output_type": "display_data",
          "data": {
            "text/plain": [
              "DataFrame[name: array<string>]"
            ]
          },
          "metadata": {}
        }
      ]
    },
    {
      "cell_type": "code",
      "source": [
        "shows.printSchema()"
      ],
      "metadata": {
        "colab": {
          "base_uri": "https://localhost:8080/"
        },
        "id": "1_8V_sWDqIgR",
        "outputId": "7e7d4851-9ec8-4481-a9d6-cedfe127d128"
      },
      "execution_count": 41,
      "outputs": [
        {
          "output_type": "stream",
          "name": "stdout",
          "text": [
            "root\n",
            " |-- _embedded: struct (nullable = true)\n",
            " |    |-- episodes: array (nullable = true)\n",
            " |    |    |-- element: struct (containsNull = true)\n",
            " |    |    |    |-- _links: struct (nullable = true)\n",
            " |    |    |    |    |-- self: struct (nullable = true)\n",
            " |    |    |    |    |    |-- href: string (nullable = true)\n",
            " |    |    |    |-- airdate: string (nullable = true)\n",
            " |    |    |    |-- airstamp: string (nullable = true)\n",
            " |    |    |    |-- airtime: string (nullable = true)\n",
            " |    |    |    |-- id: long (nullable = true)\n",
            " |    |    |    |-- image: struct (nullable = true)\n",
            " |    |    |    |    |-- medium: string (nullable = true)\n",
            " |    |    |    |    |-- original: string (nullable = true)\n",
            " |    |    |    |-- name: string (nullable = true)\n",
            " |    |    |    |-- number: long (nullable = true)\n",
            " |    |    |    |-- runtime: long (nullable = true)\n",
            " |    |    |    |-- season: long (nullable = true)\n",
            " |    |    |    |-- summary: string (nullable = true)\n",
            " |    |    |    |-- url: string (nullable = true)\n",
            " |-- _links: struct (nullable = true)\n",
            " |    |-- previousepisode: struct (nullable = true)\n",
            " |    |    |-- href: string (nullable = true)\n",
            " |    |-- self: struct (nullable = true)\n",
            " |    |    |-- href: string (nullable = true)\n",
            " |-- externals: struct (nullable = true)\n",
            " |    |-- imdb: string (nullable = true)\n",
            " |    |-- thetvdb: long (nullable = true)\n",
            " |    |-- tvrage: long (nullable = true)\n",
            " |-- genres: array (nullable = true)\n",
            " |    |-- element: string (containsNull = true)\n",
            " |-- id: long (nullable = true)\n",
            " |-- image: struct (nullable = true)\n",
            " |    |-- medium: string (nullable = true)\n",
            " |    |-- original: string (nullable = true)\n",
            " |-- language: string (nullable = true)\n",
            " |-- name: string (nullable = true)\n",
            " |-- network: struct (nullable = true)\n",
            " |    |-- country: struct (nullable = true)\n",
            " |    |    |-- code: string (nullable = true)\n",
            " |    |    |-- name: string (nullable = true)\n",
            " |    |    |-- timezone: string (nullable = true)\n",
            " |    |-- id: long (nullable = true)\n",
            " |    |-- name: string (nullable = true)\n",
            " |-- officialSite: string (nullable = true)\n",
            " |-- premiered: string (nullable = true)\n",
            " |-- rating: struct (nullable = true)\n",
            " |    |-- average: double (nullable = true)\n",
            " |-- runtime: long (nullable = true)\n",
            " |-- schedule: struct (nullable = true)\n",
            " |    |-- days: array (nullable = true)\n",
            " |    |    |-- element: string (containsNull = true)\n",
            " |    |-- time: string (nullable = true)\n",
            " |-- status: string (nullable = true)\n",
            " |-- summary: string (nullable = true)\n",
            " |-- type: string (nullable = true)\n",
            " |-- updated: long (nullable = true)\n",
            " |-- url: string (nullable = true)\n",
            " |-- webChannel: string (nullable = true)\n",
            " |-- weight: long (nullable = true)\n",
            "\n"
          ]
        }
      ]
    },
    {
      "cell_type": "code",
      "source": [
        "import pyspark.sql.types as T\n",
        "\n",
        "episode_links_schema = T.StructType(\n",
        "    [\n",
        "        T.StructField(\n",
        "            \"self\",\n",
        "            T.StructType([\n",
        "                T.StructField(\"href\", T.StringType())\n",
        "            ])\n",
        "        )\n",
        "    ]\n",
        ")\n",
        "\n",
        "\n",
        "print(episode_links_schema)"
      ],
      "metadata": {
        "colab": {
          "base_uri": "https://localhost:8080/"
        },
        "id": "WZKtGjfyrLBG",
        "outputId": "8eb43e39-e3e5-42aa-91eb-2983662739ec"
      },
      "execution_count": 43,
      "outputs": [
        {
          "output_type": "stream",
          "name": "stdout",
          "text": [
            "StructType([StructField('self', StructType([StructField('href', StringType(), True)]), True)])\n"
          ]
        }
      ]
    },
    {
      "cell_type": "code",
      "source": [
        "episode_image_schema = T.StructType(\n",
        "    [\n",
        "        T.StructField(\"medium\", T.StringType()),\n",
        "        T.StructField(\"original\", T.StringType()),\n",
        "    ]\n",
        ")\n",
        "\n",
        "print(episode_image_schema)"
      ],
      "metadata": {
        "colab": {
          "base_uri": "https://localhost:8080/"
        },
        "id": "FiFggn46s33O",
        "outputId": "620ba1aa-92a6-41d0-f376-48e12a0df32e"
      },
      "execution_count": 44,
      "outputs": [
        {
          "output_type": "stream",
          "name": "stdout",
          "text": [
            "StructType([StructField('medium', StringType(), True), StructField('original', StringType(), True)])\n"
          ]
        }
      ]
    },
    {
      "cell_type": "code",
      "source": [
        "episode_schema = T.StructType(\n",
        "    [\n",
        "        T.StructField(\"_links\", episode_links_schema),\n",
        "        T.StructField(\"airdate\", T.DateType()),\n",
        "        T.StructField(\"airstamp\", T.TimestampType()),\n",
        "        T.StructField(\"airtime\", T.StringType()),\n",
        "        T.StructField(\"id\", T.StringType()),\n",
        "        T.StructField(\"image\", episode_image_schema),\n",
        "        T.StructField(\"name\", T.StringType()),\n",
        "        T.StructField(\"number\", T.LongType()),\n",
        "        T.StructField(\"runtime\", T.LongType()),\n",
        "        T.StructField(\"season\", T.LongType()),\n",
        "        T.StructField(\"summary\", T.StringType()),\n",
        "        T.StructField(\"url\", T.StringType()),\n",
        "    ]\n",
        ")\n",
        "\n",
        "episode_schema"
      ],
      "metadata": {
        "colab": {
          "base_uri": "https://localhost:8080/"
        },
        "id": "akJCHv_it0Nn",
        "outputId": "9b97ee65-79af-48ab-c1a2-9d072af5c975"
      },
      "execution_count": 46,
      "outputs": [
        {
          "output_type": "execute_result",
          "data": {
            "text/plain": [
              "StructType([StructField('_links', StructType([StructField('self', StructType([StructField('href', StringType(), True)]), True)]), True), StructField('airdate', DateType(), True), StructField('airstamp', TimestampType(), True), StructField('airtime', StringType(), True), StructField('id', StringType(), True), StructField('image', StructType([StructField('medium', StringType(), True), StructField('original', StringType(), True)]), True), StructField('name', StringType(), True), StructField('number', LongType(), True), StructField('runtime', LongType(), True), StructField('season', LongType(), True), StructField('summary', StringType(), True), StructField('url', StringType(), True)])"
            ]
          },
          "metadata": {},
          "execution_count": 46
        }
      ]
    },
    {
      "cell_type": "code",
      "source": [
        "embedded_schema = T.StructType(\n",
        "    [\n",
        "        T.StructField(\n",
        "            \"_embedded\",\n",
        "            T.StructType(\n",
        "                [\n",
        "                    T.StructField(\n",
        "                        \"episodes\", T.ArrayType(episode_schema)\n",
        "                    )\n",
        "                ]\n",
        "            ),\n",
        "        )\n",
        "    ]\n",
        ")\n",
        "\n"
      ],
      "metadata": {
        "id": "U3WMCAbpuju8"
      },
      "execution_count": 47,
      "outputs": []
    },
    {
      "cell_type": "code",
      "source": [
        "embedded_schema"
      ],
      "metadata": {
        "colab": {
          "base_uri": "https://localhost:8080/"
        },
        "id": "hZdDzs9kutm8",
        "outputId": "be4023f6-cf22-47c1-d8e1-6274a28e5b37"
      },
      "execution_count": 48,
      "outputs": [
        {
          "output_type": "execute_result",
          "data": {
            "text/plain": [
              "StructType([StructField('_embedded', StructType([StructField('episodes', ArrayType(StructType([StructField('_links', StructType([StructField('self', StructType([StructField('href', StringType(), True)]), True)]), True), StructField('airdate', DateType(), True), StructField('airstamp', TimestampType(), True), StructField('airtime', StringType(), True), StructField('id', StringType(), True), StructField('image', StructType([StructField('medium', StringType(), True), StructField('original', StringType(), True)]), True), StructField('name', StringType(), True), StructField('number', LongType(), True), StructField('runtime', LongType(), True), StructField('season', LongType(), True), StructField('summary', StringType(), True), StructField('url', StringType(), True)]), True), True)]), True)])"
            ]
          },
          "metadata": {},
          "execution_count": 48
        }
      ]
    },
    {
      "cell_type": "code",
      "source": [],
      "metadata": {
        "id": "B7qS4lxUuvYr"
      },
      "execution_count": null,
      "outputs": []
    }
  ],
  "metadata": {
    "colab": {
      "provenance": [],
      "authorship_tag": "ABX9TyNf+8KJGs4b3xJpuEdXOeCu",
      "include_colab_link": true
    },
    "kernelspec": {
      "display_name": "Python 3",
      "name": "python3"
    },
    "language_info": {
      "name": "python"
    }
  },
  "nbformat": 4,
  "nbformat_minor": 0
}